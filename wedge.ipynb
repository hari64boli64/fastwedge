{
 "cells": [
  {
   "attachments": {},
   "cell_type": "markdown",
   "id": "e5ddba24",
   "metadata": {},
   "source": [
    "# wedge 積の高速化 (wedge 積から)\n"
   ]
  },
  {
   "attachments": {},
   "cell_type": "markdown",
   "id": "b4636524",
   "metadata": {},
   "source": [
    "## Visualizer\n"
   ]
  },
  {
   "cell_type": "code",
   "execution_count": 15,
   "id": "c5480190",
   "metadata": {},
   "outputs": [],
   "source": [
    "import itertools\n",
    "import numpy as np\n",
    "import matplotlib.pyplot as plt\n",
    "from typing import List, Tuple\n",
    "\n",
    "\n",
    "def vis_subroutine(N: int, twoD: List[List[complex]], size: int, title: str = None):\n",
    "    fig = plt.figure(figsize=(size, size))\n",
    "    ax = fig.add_subplot(1, 1, 1)\n",
    "    plt.xticks([], [])\n",
    "    plt.yticks([], [])\n",
    "    plt.imshow(twoD, origin=\"upper\")\n",
    "    plt.colorbar()\n",
    "    plt.title(title if title is not None else f\"N:{N}\", y=1.2, fontsize=15)\n",
    "    params = {\"va\": \"center\", \"ha\": \"center\",\n",
    "              \"fontsize\": 12, \"transform\": ax.transAxes}\n",
    "    return fig, ax, params\n",
    "\n",
    "\n",
    "def vis2dTensorKarnaugh(tensor: np.array, size: int = 8, title=None):\n",
    "    N = tensor.shape[0]\n",
    "\n",
    "    assert len(tensor.shape) == 2, tensor.shape\n",
    "    assert len(set(tensor.shape)) == 1, tensor.shape\n",
    "    assert N**2 <= 1000000, f\"N^2={N**2}, which is too big to vis.\"\n",
    "\n",
    "    listTensor = tensor.tolist()\n",
    "    twoD = [\n",
    "        [abs(listTensor[i][j])\n",
    "         for i in range(N)]\n",
    "        for j in range(N)\n",
    "    ]\n",
    "\n",
    "    fig, ax, params = vis_subroutine(N, twoD, size, title)\n",
    "\n",
    "    x = 0\n",
    "    for i in range(N):\n",
    "        plt.text((x+1/2)/(N), 1.05, str(i), **params)\n",
    "        x += 1\n",
    "    plt.text(-0.02, 1.05, \"i\", color=\"blue\", **params)\n",
    "\n",
    "    y = 0\n",
    "    for j in range(N):\n",
    "        plt.text(-0.05, 1-(y+1/2)/(N), str(j),  **params)\n",
    "        y += 1\n",
    "    plt.text(-0.05, 1.02, \"j\",  color=\"blue\", **params)\n",
    "\n",
    "    plt.show()\n",
    "\n",
    "\n",
    "def vis4dTensorKarnaugh(tensor: np.array, size: int = 8, title=None):\n",
    "    N = tensor.shape[0]\n",
    "\n",
    "    assert len(tensor.shape) == 4, tensor.shape\n",
    "    assert len(set(tensor.shape)) == 1, tensor.shape\n",
    "    assert N**4 <= 1000000, f\"N^4={N**4}, which is too big to vis.\"\n",
    "\n",
    "    listTensor = tensor.tolist()\n",
    "    twoD = [\n",
    "        [abs(listTensor[i][j][k][l])\n",
    "         for i, j in itertools.product(range(N), range(N))]\n",
    "        for k, l in itertools.product(range(N), range(N))\n",
    "    ]\n",
    "\n",
    "    fig, ax, params = vis_subroutine(N, twoD, size, title)\n",
    "\n",
    "    x = 0\n",
    "    for i in range(N):\n",
    "        plt.text((x+N/2)/(N*N), 1.1, str(i), **params)\n",
    "        for j in range(N):\n",
    "            plt.text((x+1/2)/(N*N), 1.05, str(j),  **params)\n",
    "            x += 1\n",
    "    plt.text(-0.02, 1.1, \"i\", color=\"blue\", **params)\n",
    "    plt.text(-0.02, 1.05, \"j\", color=\"blue\", **params)\n",
    "\n",
    "    y = 0\n",
    "    for k in range(N):\n",
    "        plt.text(-0.1, 1-(y+N/2)/(N*N), str(k),  **params)\n",
    "        for l in range(N):\n",
    "            plt.text(-0.05, 1-(y+1/2)/(N*N), str(l), **params)\n",
    "            y += 1\n",
    "    plt.text(-0.1, 1.02, \"k\",  color=\"blue\", **params)\n",
    "    plt.text(-0.05, 1.02, \"l\",  color=\"blue\", **params)\n",
    "\n",
    "    plt.show()\n",
    "\n",
    "\n",
    "def vis4dTensorNest(tensor: np.array, size: int = 8, title=None):\n",
    "    N = tensor.shape[0]\n",
    "\n",
    "    assert len(tensor.shape) == 4, tensor.shape\n",
    "    assert len(set(tensor.shape)) == 1, tensor.shape\n",
    "    assert N**4 <= 1000000, f\"N^4={N**4}, which is too big to vis.\"\n",
    "\n",
    "    listTensor = tensor.tolist()\n",
    "    twoD = [\n",
    "        [abs(listTensor[i][j][k][l])\n",
    "         for i, k in itertools.product(range(N), range(N))]\n",
    "        for j, l in itertools.product(range(N), range(N))\n",
    "    ]\n",
    "\n",
    "    fig, ax, params = vis_subroutine(N, twoD, size, title)\n",
    "\n",
    "    x = 0\n",
    "    for i in range(N):\n",
    "        plt.text((x+N/2)/(N*N), 1.1, str(i), **params)\n",
    "        for k in range(N):\n",
    "            plt.text((x+1/2)/(N*N), 1.05, str(k),  **params)\n",
    "            x += 1\n",
    "    plt.text(-0.02, 1.1, \"i\", color=\"blue\", **params)\n",
    "    plt.text(-0.02, 1.05, \"k\", color=\"blue\", **params)\n",
    "\n",
    "    y = 0\n",
    "    for j in range(N):\n",
    "        plt.text(-0.1, 1-(y+N/2)/(N*N), str(j),  **params)\n",
    "        for l in range(N):\n",
    "            plt.text(-0.05, 1-(y+1/2)/(N*N), str(l), **params)\n",
    "            y += 1\n",
    "    plt.text(-0.1, 1.02, \"j\",  color=\"blue\", **params)\n",
    "    plt.text(-0.05, 1.02, \"l\",  color=\"blue\", **params)\n",
    "\n",
    "    plt.show()\n",
    "\n",
    "\n",
    "def vis6dTensorKarnaugh(tensor: np.array, size: int = 8, title=None):\n",
    "    N = tensor.shape[0]\n",
    "\n",
    "    assert len(tensor.shape) == 6, tensor.shape\n",
    "    assert len(set(tensor.shape)) == 1, tensor.shape\n",
    "    assert N**6 <= 1000000, f\"N^6={N**6}, which is too big to vis.\"\n",
    "\n",
    "    listTensor = tensor.tolist()\n",
    "    twoD = [\n",
    "        [abs(listTensor[i][j][k][l][m][n])\n",
    "         for i, j, k in itertools.product(range(N), range(N), range(N))]\n",
    "        for l, m, n in itertools.product(range(N), range(N), range(N))\n",
    "    ]\n",
    "\n",
    "    fig, ax, params = vis_subroutine(N, twoD, size, title)\n",
    "\n",
    "    x = 0\n",
    "    for i in range(N):\n",
    "        plt.text((x+N*N/2)/(N*N*N), 1.15, str(i), **params)\n",
    "        for j in range(N):\n",
    "            plt.text((x+N/2)/(N*N*N), 1.10, str(j),  **params)\n",
    "            for k in range(N):\n",
    "                plt.text((x+1/2)/(N*N*N), 1.05, str(k),  **params)\n",
    "                x += 1\n",
    "    plt.text(-0.02, 1.15, \"i\", color=\"blue\", **params)\n",
    "    plt.text(-0.02, 1.10, \"j\", color=\"blue\", **params)\n",
    "    plt.text(-0.02, 1.05, \"k\", color=\"blue\", **params)\n",
    "\n",
    "    y = 0\n",
    "    for l in range(N):\n",
    "        plt.text(-0.15, 1-(y+N*N/2)/(N*N*N), str(l),  **params)\n",
    "        for m in range(N):\n",
    "            plt.text(-0.10, 1-(y+N/2)/(N*N*N), str(m), **params)\n",
    "            for n in range(N):\n",
    "                plt.text(-0.05, 1-(y+1/2)/(N*N*N), str(n), **params)\n",
    "                y += 1\n",
    "    plt.text(-0.15, 1.02, \"l\",  color=\"blue\", **params)\n",
    "    plt.text(-0.10, 1.02, \"m\",  color=\"blue\", **params)\n",
    "    plt.text(-0.05, 1.02, \"n\",  color=\"blue\", **params)\n",
    "\n",
    "    plt.show()\n"
   ]
  },
  {
   "attachments": {},
   "cell_type": "markdown",
   "id": "3bf7607a",
   "metadata": {},
   "source": [
    "## 本編\n"
   ]
  },
  {
   "cell_type": "code",
   "execution_count": 16,
   "id": "9b61693a",
   "metadata": {},
   "outputs": [],
   "source": [
    "import openfermion\n",
    "import numpy as np\n",
    "\n",
    "n_qubit = 6\n",
    "n_electrons = 3\n",
    "\n",
    "\n",
    "def is_particle_number_correct(arg: int, n_qubit: int, n_particle: int):\n",
    "    l = bin(arg)[2:].zfill(n_qubit)\n",
    "    return sum([int(b) for b in l]) == n_particle\n",
    "\n",
    "\n",
    "# generate Haar random state\n",
    "np.random.seed(1234)\n",
    "vec_6q = np.random.normal(size=2**n_qubit) + 1j * \\\n",
    "    np.random.normal(size=2**n_qubit)\n",
    "vec_10q = np.random.normal(size=2**10) + 1j * np.random.normal(size=2**10)\n",
    "\n",
    "# particle number restriction\n",
    "vec_6q = [vec_6q[i] if is_particle_number_correct(i, 6, n_electrons)\n",
    "          else 0 for i in range(2**6)]\n",
    "vec_6q /= np.linalg.norm(vec_6q)\n",
    "\n",
    "vec_10q = [vec_10q[i] if is_particle_number_correct(i, 10, n_electrons)\n",
    "           else 0 for i in range(2**10)]\n",
    "vec_10q /= np.linalg.norm(vec_10q)\n"
   ]
  },
  {
   "attachments": {},
   "cell_type": "markdown",
   "id": "4f447547",
   "metadata": {},
   "source": [
    "## k-RDM\n"
   ]
  },
  {
   "cell_type": "code",
   "execution_count": 43,
   "id": "95927b67",
   "metadata": {},
   "outputs": [],
   "source": [
    "import scipy.sparse\n",
    "from openfermion import jordan_wigner_ladder_sparse, FermionOperator\n",
    "from functools import lru_cache\n",
    "\n",
    "@lru_cache(maxsize=10) # n_qubitsの種類数に応じて増減すると良い。\n",
    "def make_jw_operators(n_qubits: int):\n",
    "    # Create a list of raising and lowering operators for each orbital.\n",
    "    jw_operators = []\n",
    "    for tensor_factor in range(n_qubits):\n",
    "        jw_operators += [(jordan_wigner_ladder_sparse(n_qubits, tensor_factor,\n",
    "                                                      0),\n",
    "                          jordan_wigner_ladder_sparse(n_qubits, tensor_factor,\n",
    "                                                      1))]\n",
    "    return jw_operators\n",
    "\n",
    "\n",
    "def my_jordan_wigner_sparse(fermion_operator: FermionOperator, n_qubits: int):\n",
    "    jw_operators = make_jw_operators(n_qubits)\n",
    "    # Construct the Scipy sparse matrix.\n",
    "    n_hilbert = 2**n_qubits\n",
    "    values_list = [[]]\n",
    "    row_list = [[]]\n",
    "    column_list = [[]]\n",
    "    for term in fermion_operator.terms:\n",
    "        coefficient = fermion_operator.terms[term]\n",
    "        sparse_matrix = coefficient * scipy.sparse.identity(\n",
    "            2**n_qubits, dtype=complex, format='csc')\n",
    "        for ladder_operator in term:\n",
    "            sparse_matrix = sparse_matrix * jw_operators[ladder_operator[0]][\n",
    "                ladder_operator[1]]\n",
    "\n",
    "        if coefficient:\n",
    "            # Extract triplets from sparse_term.\n",
    "            sparse_matrix = sparse_matrix.tocoo(copy=False)\n",
    "            values_list.append(sparse_matrix.data)\n",
    "            (row, column) = sparse_matrix.nonzero()\n",
    "            row_list.append(row)\n",
    "            column_list.append(column)\n",
    "\n",
    "    values_list = np.concatenate(values_list)\n",
    "    row_list = np.concatenate(row_list)\n",
    "    column_list = np.concatenate(column_list)\n",
    "    sparse_operator = scipy.sparse.coo_matrix(\n",
    "        (values_list, (row_list, column_list)),\n",
    "        shape=(n_hilbert, n_hilbert)).tocsc(copy=False)\n",
    "    sparse_operator.eliminate_zeros()\n",
    "    return sparse_operator\n",
    "\n",
    "\n",
    "def my_get_sparse_operator(operator: FermionOperator, n_qubit: int):\n",
    "    assert not isinstance(\n",
    "        operator, (openfermion.DiagonalCoulombHamiltonian, openfermion.PolynomialTensor))\n",
    "    assert isinstance(operator, FermionOperator)\n",
    "    return my_jordan_wigner_sparse(operator, n_qubit)\n",
    "\n",
    "\n",
    "def fast_expectation(operator: np.ndarray or FermionOperator,\n",
    "                     state: np.array,\n",
    "                     state_conj: np.array or scipy.sparse.csc_matrix,\n",
    "                     n_qubit: int):\n",
    "    if type(operator) == np.ndarray:\n",
    "        return state_conj @ operator @ state\n",
    "    else:\n",
    "        return scipy.sparse.csc_matrix.toarray(state_conj @ my_get_sparse_operator(operator, n_qubit)) @ state\n",
    "\n",
    "\n",
    "def get_sign_of_perm(perm):\n",
    "    # sympy.combinatoricsのPermutationにある_af_parityを流用\n",
    "    n = len(perm)\n",
    "    a = [0] * n\n",
    "    c = 0\n",
    "    for j in range(n):\n",
    "        if a[j] == 0:\n",
    "            c += 1\n",
    "            a[j] = 1\n",
    "            i = j\n",
    "            while perm[i] != j:\n",
    "                i = perm[i]\n",
    "                a[i] = 1\n",
    "    # 1 if (n - c) % 2 == 0 else -1\n",
    "    return 1-2*((n - c)%2)\n",
    "\n",
    "def get_sign_of_args(args:List[int]):\n",
    "    if len(args) - len(np.unique(args)) > 0:\n",
    "        return 0\n",
    "    return get_sign_of_perm(np.argsort(args))\n",
    "\n",
    "\n",
    "def get_corresponding_index(args: tuple):\n",
    "    k = len(args)//2\n",
    "    assert len(args) == 2*k\n",
    "    args_ = list(args)\n",
    "\n",
    "    args1 = args_[:k]\n",
    "    args2 = args_[k:]\n",
    "\n",
    "    sign1 = get_sign_of_args(args1)\n",
    "    sign2 = get_sign_of_args(args2)\n",
    "\n",
    "    argmin1 = min(args1)\n",
    "    argmin2 = min(args2)\n",
    "\n",
    "    if_conjugate = argmin1 > argmin2\n",
    "    if if_conjugate:\n",
    "        args1_ref = sorted(args2)\n",
    "        args2_ref = sorted(args1)\n",
    "    else:\n",
    "        args1_ref = sorted(args1)\n",
    "        args2_ref = sorted(args2)\n",
    "    return tuple(args1_ref + args2_ref), if_conjugate, sign1 * sign2\n",
    "\n",
    "\n",
    "def fast_compute_one_rdm(_vector: np.ndarray):\n",
    "    vector = np.copy(_vector)\n",
    "    csc_vector_conj = scipy.sparse.csc_matrix(vector.conj())\n",
    "    n_qubit = int(np.log2(vector.shape[0]))\n",
    "    assert 2**n_qubit == vector.shape[0]\n",
    "    rdm1 = np.zeros((n_qubit, n_qubit), dtype=complex)\n",
    "    for i in range(n_qubit):\n",
    "        for j in range(i, n_qubit):\n",
    "            cij = fast_expectation(FermionOperator(\n",
    "                f\"{i}^ {j}\"), vector, csc_vector_conj, n_qubit)\n",
    "            rdm1[i, j] = np.copy(cij)\n",
    "            rdm1[j, i] = np.copy(cij).conj()\n",
    "    assert np.all(_vector == vector)\n",
    "    return rdm1\n",
    "\n",
    "\n",
    "def fast_compute_two_rdm(_vector: np.ndarray):\n",
    "    vector = np.copy(_vector)\n",
    "    csc_vector_conj = scipy.sparse.csc_matrix(vector.conj())\n",
    "    n_qubit = int(np.log2(vector.shape[0]))\n",
    "    rdm2 = np.zeros((n_qubit, n_qubit, n_qubit, n_qubit), dtype=complex)\n",
    "    for i in range(n_qubit):\n",
    "        for j in range(i, n_qubit):\n",
    "            for k in range(j, n_qubit):\n",
    "                for l in range(k, n_qubit):\n",
    "                    unique_args = list(\n",
    "                        set([(i, j, k, l), (i, k, j, l), (i, l, j, k)]))\n",
    "                    for _args in unique_args:\n",
    "                        if _args[0] == _args[1] or _args[2] == _args[3]:\n",
    "                            continue\n",
    "                        exp = fast_expectation(FermionOperator(\n",
    "                            f\"{_args[0]}^ {_args[1]}^ {_args[2]} {_args[3]}\"),\n",
    "                            vector, csc_vector_conj, n_qubit)\n",
    "                        rdm2[_args] = exp\n",
    "    for i in range(n_qubit):\n",
    "        for j in range(n_qubit):\n",
    "            for k in range(n_qubit):\n",
    "                for l in range(n_qubit):\n",
    "                    args = (i, j, k, l)\n",
    "                    args_ref, if_conjugate, sign = get_corresponding_index(\n",
    "                        args)\n",
    "                    cijkl = np.copy(rdm2[args_ref]) * sign\n",
    "                    if if_conjugate:\n",
    "                        cijkl = cijkl.conj()\n",
    "                    rdm2[i, j, k, l] = np.copy(cijkl)\n",
    "    assert np.all(_vector == vector)\n",
    "    return rdm2\n"
   ]
  },
  {
   "cell_type": "code",
   "execution_count": 44,
   "id": "2195e570",
   "metadata": {},
   "outputs": [],
   "source": [
    "rdm1_6q = fast_compute_one_rdm(vec_6q)\n",
    "rdm2_6q = fast_compute_two_rdm(vec_6q)\n",
    "rdm1_10q = fast_compute_one_rdm(vec_10q)\n",
    "rdm2_10q = fast_compute_two_rdm(vec_10q)\n"
   ]
  },
  {
   "cell_type": "code",
   "execution_count": 21,
   "id": "acf4d781",
   "metadata": {},
   "outputs": [],
   "source": [
    "# openfermion内部では、2-RDMに定数倍をかけたものを活用している\n",
    "tpdm = rdm2_6q / 2\n",
    "tpdm_10q = rdm2_10q / 2\n",
    "\n",
    "# openfermion内部では、1-RDMに定数倍をかけたものを活用している\n",
    "opdm = (2 / (n_electrons - 1)) * np.einsum('ijjk', tpdm)\n",
    "opdm_10q = (2 / (n_electrons - 1)) * np.einsum('ijjk', tpdm_10q)\n"
   ]
  },
  {
   "cell_type": "code",
   "execution_count": 22,
   "id": "210e3143",
   "metadata": {},
   "outputs": [
    {
     "data": {
      "text/plain": [
       "(6, 6)"
      ]
     },
     "execution_count": 22,
     "metadata": {},
     "output_type": "execute_result"
    }
   ],
   "source": [
    "# n-qubit系 (n-fermion mode系)では shape = (N, N)\n",
    "opdm.shape\n"
   ]
  },
  {
   "cell_type": "code",
   "execution_count": 23,
   "id": "46eaa4fe",
   "metadata": {},
   "outputs": [
    {
     "data": {
      "text/plain": [
       "(6, 6, 6, 6)"
      ]
     },
     "execution_count": 23,
     "metadata": {},
     "output_type": "execute_result"
    }
   ],
   "source": [
    "# n-qubit系 (n-fermion mode系)では shape = (N, N, N, N)\n",
    "tpdm.shape\n"
   ]
  },
  {
   "attachments": {},
   "cell_type": "markdown",
   "id": "f25e11ef",
   "metadata": {},
   "source": [
    "## wedge product of tensors\n",
    "\n",
    "Wedge 積は、反交換関係を保つような Kronecker delta のようなものだと理解できる。\n",
    "その定義は、以下のように与えられる：\n",
    "\n",
    "$$\n",
    "    \\left( a \\wedge b\\right) ^{i_{1}, i_{2}, ..., i_{p},..., i_{p+q}}_{j_{1}, j_{2}, ...,j_{p}, ..., j_{p+q} } =\n",
    "    \\left(\\frac{1}{N!}\\right)^{2}\\sum_{\\pi, \\sigma}\\epsilon(\\pi)\\epsilon(\\sigma)\n",
    "    a_{\\pi(j_{1}), \\pi(j_{2}), ..., \\pi(j_{p}) }^{ \\sigma(i_{1}), \\sigma(i_{2}), ..., \\sigma(i_{p})}\n",
    "    b_{\\pi(j_{p+1}), \\pi(j_{p+2}), ..., \\pi(j_{p+q}) }^{ \\sigma(i_{p+1}), \\sigma(i_{p+2}), ..., \\sigma(i_{p+q})}\n",
    "$$\n",
    "\n",
    "ただし、$a$と$b$はそれぞれ $p$-RDM, $q$-RDM を表すテンソルで、フェルミオンの半交換関係に起因して行列要素同士が符号で結びついている。\n",
    "\n",
    "また、$\\pi, \\sigma$はそれぞれ $(p+q)$個の添字に関する巡回を表し、$\\epsilon(\\pi)$などは巡回操作の符号を表すものとする。\n",
    "\n",
    "その素朴な einsum による実装は、google の提供する Openfermion ライブラリに提供されているが、例によって遅くて困っている。\n",
    "`wedge`関数の[URL](https://quantumai.google/reference/python/openfermion/linalg/wedge)\n"
   ]
  },
  {
   "attachments": {},
   "cell_type": "markdown",
   "id": "297232dd",
   "metadata": {},
   "source": [
    "### slow\n",
    "\n",
    "以下のセルは渡された notebook とほぼ同一のため、遅い。\n",
    "\n",
    "比較目的で走らせる。\n"
   ]
  },
  {
   "cell_type": "code",
   "execution_count": 24,
   "id": "68f059ed",
   "metadata": {},
   "outputs": [],
   "source": [
    "from openfermion.linalg import wedge\n",
    "\n",
    "# 上記の操作をまとめたのが `wedge`関数である\n",
    "left_index_ranks = (1, 1)\n",
    "right_index_ranks = (2, 2)\n",
    "thpdm = wedge(opdm, tpdm, left_index_ranks, right_index_ranks)\n"
   ]
  },
  {
   "attachments": {},
   "cell_type": "markdown",
   "id": "95d6a4d7",
   "metadata": {},
   "source": [
    "~~以下では、 `wedge`の実装部分を分解し、その動作を理解する。~~\n",
    "\n",
    "これは省略する。\n"
   ]
  },
  {
   "attachments": {},
   "cell_type": "markdown",
   "id": "a1d028fd",
   "metadata": {},
   "source": [
    "### fast\n"
   ]
  },
  {
   "attachments": {},
   "cell_type": "markdown",
   "id": "9acb85a9",
   "metadata": {},
   "source": [
    "高速化に取り組む前に、以下の手計算による例に注意する。\n",
    "\n",
    "$$\n",
    "a_0^0=1,a_1^0=2,a_0^1=3,a_1^1=4 \\\\\n",
    "b_0^0=1,b_1^0=2,b_0^1=3,b_1^1=4\\\\\n",
    "p=1,q=1,N=2,Q=2\n",
    "$$\n",
    "\n",
    "の時、\n",
    "\n",
    "$$\n",
    "    \\begin{align}\n",
    "       & (a \\wedge b)^{0, 1}_{0, 1} \\\\\n",
    "      =& \\left(\\frac{1}{N!}\\right)^{2}\\sum_{\\pi, \\sigma}\\epsilon(\\pi)\\epsilon(\\sigma)a_{\\pi(0)}^{ \\sigma(0)}b_{\\pi(1)}^{ \\sigma(1)} \\\\\n",
    "      =& \\frac{1}{4} ((1*1*a_0^0b_1^1)+(-1*1*a_1^0b_0^1)+(1*-1*a_0^1b_1^0)+(-1*-1*a_1^1b_0^0)) \\\\\n",
    "      =& \\frac{1}{4} ((1*1*1*4)+(-1*1*2*3)+(1*-1*3*2)+(-1*-1*4*1)) \\\\\n",
    "      =& -1\n",
    "    \\end{align}\n",
    "$$\n",
    "\n",
    "であるが、\n"
   ]
  },
  {
   "cell_type": "code",
   "execution_count": 25,
   "id": "149123cb",
   "metadata": {},
   "outputs": [
    {
     "name": "stdout",
     "output_type": "stream",
     "text": [
      "example_tensor[0,1,0,1]=(1+0j)\n"
     ]
    }
   ],
   "source": [
    "example_a = np.array([[1, 2], [3, 4]])\n",
    "example_b = np.array([[1, 2], [3, 4]])\n",
    "example_tensor = wedge(example_a, example_b, (1, 1), (1, 1))\n",
    "print(f\"{example_tensor[0,1,0,1]=}\")\n"
   ]
  },
  {
   "attachments": {},
   "cell_type": "markdown",
   "id": "ed317457",
   "metadata": {},
   "source": [
    "と、\n",
    "\n",
    "$$\n",
    "  tensor[0,1,0,1]=+1\n",
    "$$\n",
    "\n",
    "である。\n",
    "\n",
    "これは、\n",
    "\n",
    "$$\n",
    "  tensor[0,1,0,1]=(a \\wedge b)^{0, 1}_{1, 0}\n",
    "$$\n",
    "\n",
    "と下側の index が逆順になっていることに依存している。\n",
    "\n",
    "実装内でこれを組み込むと混乱の原因になると考えた為、最後に補正項を掛けることで調整している。\n",
    "具体的には、逆転操作の符号に相当する、`-1**(pq)`を掛ければよい。\n",
    "<font color=\"red\">要検証</font>\n"
   ]
  },
  {
   "cell_type": "code",
   "execution_count": 98,
   "id": "f8490a31",
   "metadata": {},
   "outputs": [
    {
     "name": "stdout",
     "output_type": "stream",
     "text": [
      "旧式計算量: 57,600,000,000\n",
      "中式計算量: 50,803,200\n",
      "新式計算量: 26,107,200\n",
      "下限計算量: 25,401,600 (非零要素数)\n",
      "空間計算量: 100,000,000\n"
     ]
    }
   ],
   "source": [
    "import math\n",
    "\n",
    "Q = 10\n",
    "p = 1\n",
    "q = 3\n",
    "N = p+q\n",
    "print(f\"旧式計算量: {(Q**(2*N))*(math.factorial(N)**2):,}\")\n",
    "print(f\"中式計算量: {((math.comb(Q,N))**2)*((math.factorial(N)**2)+(math.factorial(p+q)**2)):,}\")\n",
    "print(f\"新式計算量: {((math.comb(Q,N))**2)*((math.perm(N,p)**2)+(math.factorial(p+q)**2)):,}\")\n",
    "print(f\"下限計算量: {math.perm(Q,N)**2:,} (非零要素数)\")\n",
    "print(f\"空間計算量: {Q**(2*N):,}\")\n"
   ]
  },
  {
   "cell_type": "code",
   "execution_count": 28,
   "id": "68604c9b",
   "metadata": {},
   "outputs": [],
   "source": [
    "from tqdm.notebook import tqdm  # 進捗状況を把握する為 必須ではない\n",
    "from itertools import product, combinations, permutations\n",
    "from openfermion.linalg import generate_parity_permutations\n",
    "from numba import jit\n",
    "\n",
    "@jit\n",
    "def getIdx(Q: int, *args: int):\n",
    "    # assert all(0 <= arg < Q for arg in args)\n",
    "    ret = 0\n",
    "    for arg in args:\n",
    "        ret *= Q\n",
    "        ret += arg\n",
    "    return ret\n",
    "\n",
    "def medi_wedge(left_tensor: np.ndarray, right_tensor: np.ndarray,\n",
    "               left_index_ranks: Tuple[int, int], right_index_ranks: Tuple[int, int]) -> np.ndarray:\n",
    "    assert left_tensor.ndim == sum(left_index_ranks)                   # 必須\n",
    "    assert right_tensor.ndim == sum(right_index_ranks)                 # 必須\n",
    "    assert len(set(left_tensor.shape) | set(right_tensor.shape)) == 1  # 必須\n",
    "\n",
    "    # TODO: fix(?)\n",
    "    assert left_index_ranks[0] == left_index_ranks[1]                  # 必須でない\n",
    "    assert right_index_ranks[0] == right_index_ranks[1]                # 必須でない\n",
    "\n",
    "    p = left_index_ranks[0]\n",
    "    q = right_index_ranks[0]\n",
    "    N = p+q\n",
    "    N_fact_2 = math.factorial(N)**2\n",
    "    Q = left_tensor.shape[0]\n",
    "\n",
    "    # ランダムアクセスが必要、かつ、多次元配列のままだと遅いので、通常の一次元Listを使用\n",
    "    tensor = [0.0+0.0j for _ in range(Q**(2*N))]\n",
    "    left_tensor_list = left_tensor.flatten().tolist()\n",
    "    right_tensor_list = right_tensor.flatten().tolist()\n",
    "\n",
    "    # TODO: Q<p+q\n",
    "    for ipiq, jpjq in tqdm(product(combinations(range(Q), p+q),\n",
    "                                   combinations(range(Q), p+q)),\n",
    "                           total=(math.comb(Q, p+q)**2)):\n",
    "        parity_ipiq = generate_parity_permutations(list(ipiq))\n",
    "        parity_jpjq = generate_parity_permutations(list(jpjq))\n",
    "        ans = 0.0+0.0j\n",
    "        for (nipiq, i_parity) in parity_ipiq:\n",
    "            for (njpjq, j_parity) in parity_jpjq:\n",
    "                ans += left_tensor_list[getIdx(Q, *nipiq[:p], *njpjq[:p])] * \\\n",
    "                    right_tensor_list[getIdx(Q, *nipiq[p:], *njpjq[p:])] *\\\n",
    "                    i_parity*j_parity\n",
    "        ans /= N_fact_2\n",
    "        for (nipiq, i_parity) in parity_ipiq:\n",
    "            for (njpjq, j_parity) in parity_jpjq:\n",
    "                tensor[getIdx(Q, *nipiq, *njpjq)] = ans*i_parity*j_parity\n",
    "\n",
    "    # 添字順序の逆転による影響を考慮する符号\n",
    "    sign_adjustment = (-1)**(p*q)\n",
    "\n",
    "    return np.array(tensor).reshape(tuple(Q for _ in range(2*N)))*sign_adjustment\n"
   ]
  },
  {
   "attachments": {},
   "cell_type": "markdown",
   "id": "687d1480",
   "metadata": {},
   "source": [
    "generate_parity_permutationsは、indexだけ保持しておけば、毎回計算する必要がなくなる。"
   ]
  },
  {
   "cell_type": "code",
   "execution_count": 40,
   "id": "8c5a7419",
   "metadata": {},
   "outputs": [],
   "source": [
    "def my_generate_fixed_parity_permutations(N: int) -> List[Tuple[List[int], int]]:\n",
    "    return [(perm, get_sign_of_perm(perm)) for perm in permutations(range(N))]\n",
    "\n",
    "\n",
    "def my_generate_parity_permutations(seq: Tuple[int],\n",
    "                                    fixed_parity_perms: List[Tuple[List[int], int]]\n",
    "                                    ) -> List[Tuple[List[int], int]]:\n",
    "    return [([seq[idx] for idx in idxs], parity) for idxs, parity in fixed_parity_perms]\n"
   ]
  },
  {
   "cell_type": "code",
   "execution_count": 91,
   "id": "442caa4c",
   "metadata": {},
   "outputs": [],
   "source": [
    "def generate_fixed_partial_permutations(N: int, p: int):\n",
    "    ret = []\n",
    "    for perm1 in permutations(range(N), p):\n",
    "        perm2 = sorted(list(set(range(N))-set(perm1)))\n",
    "        all_perm = list(perm1)+list(perm2)\n",
    "        ret.append((perm1, perm2, get_sign_of_perm(all_perm)))\n",
    "    return ret\n",
    "\n",
    "\n",
    "def partial_permutations(seq: Tuple[int],\n",
    "                         fixed_partial_perms: List[Tuple[List[int],\n",
    "                                                         List[int], int]]\n",
    "                         ) -> List[Tuple[List[int], List[int], int]]:\n",
    "    return [([seq[i1] for i1 in idxs1],\n",
    "             [seq[i2] for i2 in idxs2],\n",
    "             parity) for idxs1, idxs2, parity in fixed_partial_perms]\n"
   ]
  },
  {
   "cell_type": "code",
   "execution_count": 94,
   "id": "940f8bfe",
   "metadata": {},
   "outputs": [],
   "source": [
    "def fast_wedge(left_tensor: np.ndarray, right_tensor: np.ndarray,\n",
    "               left_index_ranks: Tuple[int, int], right_index_ranks: Tuple[int, int]) -> np.ndarray:\n",
    "    assert left_tensor.ndim == sum(left_index_ranks)                   # 必須\n",
    "    assert right_tensor.ndim == sum(right_index_ranks)                 # 必須\n",
    "    assert len(set(left_tensor.shape) | set(right_tensor.shape)) == 1  # 必須\n",
    "\n",
    "    # TODO: fix(?)\n",
    "    assert left_index_ranks[0] == left_index_ranks[1]                  # 必須でない\n",
    "    assert right_index_ranks[0] == right_index_ranks[1]                # 必須でない\n",
    "\n",
    "    p = left_index_ranks[0]\n",
    "    q = right_index_ranks[0]\n",
    "    N = p+q\n",
    "    N_fact_2 = math.factorial(N)**2\n",
    "    Q = left_tensor.shape[0]\n",
    "\n",
    "    # ランダムアクセスが必要、かつ、多次元配列のままだと遅いので、通常の一次元Listを使用\n",
    "    tensor = [0.0+0.0j for _ in range(Q**(2*N))]\n",
    "    left_tensor_list = left_tensor.flatten().tolist()\n",
    "    right_tensor_list = right_tensor.flatten().tolist()\n",
    "\n",
    "    # 符号や順列などについての事前計算\n",
    "    fixed_parity_perms = my_generate_fixed_parity_permutations(N)\n",
    "    fixed_partial_perms = generate_fixed_partial_permutations(N, p)\n",
    "    # right_tensorについての事前計算\n",
    "    fixed_right_dict=dict()\n",
    "    for iq in permutations(range(Q),q):\n",
    "        for jq in permutations(range(Q),q):\n",
    "            right=0\n",
    "            for (niq, iq_parity) in generate_parity_permutations(list(iq)):\n",
    "                for (njq, jq_parity) in generate_parity_permutations(list(jq)):\n",
    "                    right += right_tensor_list[getIdx(Q, *niq, *njq)] * \\\n",
    "                        iq_parity*jq_parity\n",
    "            fixed_right_dict[getIdx(Q,*iq,*jq)]=right\n",
    "\n",
    "\n",
    "    # TODO: Q<p+q\n",
    "    for ipiq, jpjq in tqdm(product(combinations(range(Q), p+q),\n",
    "                                   combinations(range(Q), p+q)),\n",
    "                           total=(math.comb(Q, p+q)**2)):\n",
    "        parity_ipiq = my_generate_parity_permutations(ipiq, fixed_parity_perms)\n",
    "        parity_jpjq = my_generate_parity_permutations(jpjq, fixed_parity_perms)\n",
    "        ans = 0.0+0.0j\n",
    "\n",
    "        for (nip, niq, i_parity) in partial_permutations(ipiq, fixed_partial_perms):\n",
    "            for (njp, njq, j_parity) in partial_permutations(jpjq, fixed_partial_perms):\n",
    "                # right = 0\n",
    "                # for (nniq, iq_parity) in generate_parity_permutations(list(niq)):\n",
    "                #     for (nnjq, jq_parity) in generate_parity_permutations(list(njq)):\n",
    "                #         right += right_tensor_list[getIdx(Q, *nniq, *nnjq)] * \\\n",
    "                #             iq_parity*jq_parity\n",
    "                ans += left_tensor_list[getIdx(Q, *nip, *njp)] * \\\n",
    "                    right * i_parity*j_parity\n",
    "\n",
    "        ans /= N_fact_2\n",
    "        for (nipiq, i_parity) in parity_ipiq:\n",
    "            for (njpjq, j_parity) in parity_jpjq:\n",
    "                tensor[getIdx(Q, *nipiq, *njpjq)] = ans*i_parity*j_parity\n",
    "\n",
    "    # 添字順序の逆転による影響を考慮する符号\n",
    "    sign_adjustment = (-1)**(p*q)\n",
    "\n",
    "    return np.array(tensor).reshape(tuple(Q for _ in range(2*N)))*sign_adjustment\n"
   ]
  },
  {
   "cell_type": "code",
   "execution_count": 95,
   "id": "270f3b25",
   "metadata": {},
   "outputs": [
    {
     "data": {
      "application/vnd.jupyter.widget-view+json": {
       "model_id": "656379d0051c42c1a2df5622768429b1",
       "version_major": 2,
       "version_minor": 0
      },
      "text/plain": [
       "  0%|          | 0/400 [00:00<?, ?it/s]"
      ]
     },
     "metadata": {},
     "output_type": "display_data"
    }
   ],
   "source": [
    "fast_thpdm = fast_wedge(opdm, tpdm, left_index_ranks, right_index_ranks)\n"
   ]
  },
  {
   "cell_type": "code",
   "execution_count": 96,
   "id": "19dda063",
   "metadata": {},
   "outputs": [
    {
     "data": {
      "image/png": "[encoded data removed]",
      "text/plain": [
       "<Figure size 1080x1080 with 2 Axes>"
      ]
     },
     "metadata": {
      "needs_background": "light"
     },
     "output_type": "display_data"
    }
   ],
   "source": [
    "vis6dTensorKarnaugh(fast_thpdm, size=15)\n"
   ]
  },
  {
   "cell_type": "code",
   "execution_count": 97,
   "id": "f6a38f45",
   "metadata": {},
   "outputs": [],
   "source": [
    "assert np.allclose(thpdm, fast_thpdm)\n"
   ]
  },
  {
   "attachments": {},
   "cell_type": "markdown",
   "id": "587f5d34",
   "metadata": {},
   "source": [
    "## 実行時間テスト\n"
   ]
  },
  {
   "cell_type": "code",
   "execution_count": 53,
   "id": "6010974e",
   "metadata": {},
   "outputs": [],
   "source": [
    "# this is fine\n",
    "slow_unconnected_tpdm = wedge(opdm, opdm, (1, 1), (1, 1))\n"
   ]
  },
  {
   "cell_type": "code",
   "execution_count": 55,
   "id": "2608a037",
   "metadata": {},
   "outputs": [
    {
     "data": {
      "application/vnd.jupyter.widget-view+json": {
       "model_id": "8c23afc44ecd4ae78c7409ed5b8c6361",
       "version_major": 2,
       "version_minor": 0
      },
      "text/plain": [
       "  0%|          | 0/225 [00:00<?, ?it/s]"
      ]
     },
     "metadata": {},
     "output_type": "display_data"
    }
   ],
   "source": [
    "fast_unconnected_tpdm = fast_wedge(opdm, opdm, (1, 1), (1, 1))\n"
   ]
  },
  {
   "cell_type": "code",
   "execution_count": 56,
   "id": "6c2a691c",
   "metadata": {},
   "outputs": [],
   "source": [
    "assert np.allclose(slow_unconnected_tpdm, fast_unconnected_tpdm)\n"
   ]
  },
  {
   "cell_type": "code",
   "execution_count": 57,
   "id": "eb01c26d",
   "metadata": {},
   "outputs": [],
   "source": [
    "# this is okay\n",
    "slow_unconnected_d3 = wedge(opdm, tpdm, (1, 1), (2, 2))\n"
   ]
  },
  {
   "cell_type": "code",
   "execution_count": 58,
   "id": "ee3321a4",
   "metadata": {},
   "outputs": [
    {
     "data": {
      "application/vnd.jupyter.widget-view+json": {
       "model_id": "1a11e334d837406ab4785bdc6d1f247d",
       "version_major": 2,
       "version_minor": 0
      },
      "text/plain": [
       "  0%|          | 0/400 [00:00<?, ?it/s]"
      ]
     },
     "metadata": {},
     "output_type": "display_data"
    }
   ],
   "source": [
    "fast_unconnected_d3 = fast_wedge(opdm, tpdm, (1, 1), (2, 2))\n"
   ]
  },
  {
   "cell_type": "code",
   "execution_count": 59,
   "id": "beb0243c",
   "metadata": {},
   "outputs": [],
   "source": [
    "assert np.allclose(slow_unconnected_d3, fast_unconnected_d3)\n"
   ]
  },
  {
   "cell_type": "code",
   "execution_count": 60,
   "id": "6505527b",
   "metadata": {},
   "outputs": [],
   "source": [
    "# generating (4, 4) tensor is too slow, even for 6 qubits\n",
    "slow_unconnected_d4 = wedge(tpdm, tpdm, (2, 2), (2, 2))\n"
   ]
  },
  {
   "cell_type": "code",
   "execution_count": 61,
   "id": "928b39b5",
   "metadata": {},
   "outputs": [
    {
     "data": {
      "application/vnd.jupyter.widget-view+json": {
       "model_id": "e8aa37b957f34573835dcd20b726b25d",
       "version_major": 2,
       "version_minor": 0
      },
      "text/plain": [
       "  0%|          | 0/225 [00:00<?, ?it/s]"
      ]
     },
     "metadata": {},
     "output_type": "display_data"
    }
   ],
   "source": [
    "fast_unconnected_d4 = fast_wedge(tpdm, tpdm, (2, 2), (2, 2))\n"
   ]
  },
  {
   "cell_type": "code",
   "execution_count": 62,
   "id": "51b67a02",
   "metadata": {},
   "outputs": [],
   "source": [
    "assert np.allclose(slow_unconnected_d4, fast_unconnected_d4)\n"
   ]
  },
  {
   "cell_type": "code",
   "execution_count": 63,
   "id": "3604a90c",
   "metadata": {},
   "outputs": [],
   "source": [
    "# this is the case for other calculations as well\n",
    "slow_unconnected_d4_2 = wedge(opdm, slow_unconnected_d3, (1, 1), (3, 3))\n"
   ]
  },
  {
   "cell_type": "code",
   "execution_count": 64,
   "id": "72b972cd",
   "metadata": {},
   "outputs": [
    {
     "data": {
      "application/vnd.jupyter.widget-view+json": {
       "model_id": "f5148e4067464590a4949df6f00eb230",
       "version_major": 2,
       "version_minor": 0
      },
      "text/plain": [
       "  0%|          | 0/225 [00:00<?, ?it/s]"
      ]
     },
     "metadata": {},
     "output_type": "display_data"
    }
   ],
   "source": [
    "fast_unconnected_d4_2 = fast_wedge(opdm, fast_unconnected_d3, (1, 1), (3, 3))\n"
   ]
  },
  {
   "cell_type": "code",
   "execution_count": 65,
   "id": "9aa0575c",
   "metadata": {},
   "outputs": [],
   "source": [
    "assert np.allclose(slow_unconnected_d4_2, fast_unconnected_d4_2)\n"
   ]
  },
  {
   "cell_type": "code",
   "execution_count": 66,
   "id": "cc02ffcc",
   "metadata": {},
   "outputs": [],
   "source": [
    "# this is becoming irritating\n",
    "slow_unconnected_d3_10q = wedge(opdm_10q, tpdm_10q, (1, 1), (2, 2))\n"
   ]
  },
  {
   "cell_type": "code",
   "execution_count": 67,
   "id": "9cfbfd07",
   "metadata": {},
   "outputs": [
    {
     "data": {
      "application/vnd.jupyter.widget-view+json": {
       "model_id": "c039186fe5914b858b33f9b1564cd221",
       "version_major": 2,
       "version_minor": 0
      },
      "text/plain": [
       "  0%|          | 0/14400 [00:00<?, ?it/s]"
      ]
     },
     "metadata": {},
     "output_type": "display_data"
    }
   ],
   "source": [
    "fast_unconnected_d3_10q = fast_wedge(opdm_10q, tpdm_10q, (1, 1), (2, 2))\n"
   ]
  },
  {
   "cell_type": "code",
   "execution_count": 68,
   "id": "203863af",
   "metadata": {},
   "outputs": [],
   "source": [
    "assert np.allclose(slow_unconnected_d3_10q, fast_unconnected_d3_10q)\n"
   ]
  },
  {
   "cell_type": "code",
   "execution_count": 69,
   "id": "863e6e66",
   "metadata": {},
   "outputs": [],
   "source": [
    "# slow as hell\n",
    "# unconnected_d4_10q = wedge(opdm_10q, unconnected_d3_10q, (1, 1), (3, 3))\n"
   ]
  },
  {
   "cell_type": "code",
   "execution_count": 70,
   "id": "ce1c14c6",
   "metadata": {},
   "outputs": [
    {
     "data": {
      "application/vnd.jupyter.widget-view+json": {
       "model_id": "44fcfeff483342aab27a264c01ae325b",
       "version_major": 2,
       "version_minor": 0
      },
      "text/plain": [
       "  0%|          | 0/44100 [00:00<?, ?it/s]"
      ]
     },
     "metadata": {},
     "output_type": "display_data"
    }
   ],
   "source": [
    "fast_unconnected_d4_10q = fast_wedge(\n",
    "    opdm_10q, fast_unconnected_d3_10q, (1, 1), (3, 3))\n"
   ]
  },
  {
   "cell_type": "code",
   "execution_count": 31,
   "id": "f150cb5f",
   "metadata": {},
   "outputs": [
    {
     "name": "stdout",
     "output_type": "stream",
     "text": [
      "sugoi hayai program\n"
     ]
    }
   ],
   "source": [
    "print(\"sugoi hayai program\")\n"
   ]
  },
  {
   "cell_type": "code",
   "execution_count": null,
   "id": "3ed76823",
   "metadata": {},
   "outputs": [],
   "source": []
  }
 ],
 "metadata": {
  "kernelspec": {
   "display_name": "base",
   "language": "python",
   "name": "python3"
  },
  "language_info": {
   "codemirror_mode": {
    "name": "ipython",
    "version": 3
   },
   "file_extension": ".py",
   "mimetype": "text/x-python",
   "name": "python",
   "nbconvert_exporter": "python",
   "pygments_lexer": "ipython3",
   "version": "3.8.3"
  },
  "toc": {
   "base_numbering": 1,
   "nav_menu": {},
   "number_sections": true,
   "sideBar": true,
   "skip_h1_title": false,
   "title_cell": "Table of Contents",
   "title_sidebar": "Contents",
   "toc_cell": false,
   "toc_position": {},
   "toc_section_display": true,
   "toc_window_display": false
  },
  "vscode": {
   "interpreter": {
    "hash": "7cea24d53d001afaa68130287e583fbe34d1c08cff33de358a5bdfbf82e16173"
   }
  }
 },
 "nbformat": 4,
 "nbformat_minor": 5
}
