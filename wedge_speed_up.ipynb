{
 "cells": [
  {
   "cell_type": "code",
   "execution_count": 1,
   "id": "9b61693a",
   "metadata": {},
   "outputs": [],
   "source": [
    "import openfermion\n",
    "#from openfermion import ran\n",
    "import numpy as np\n",
    "n_qubit = 6\n",
    "n_electrons = 3\n",
    "\n",
    "def is_particle_number_correct(arg: int, n_qubit: int, n_particle: int):\n",
    "    l = bin(arg)[2:].zfill(n_qubit)\n",
    "    return sum([int(b) for b in l]) == n_particle\n",
    "\n",
    "# generate Haar random state\n",
    "np.random.seed(1234)\n",
    "vec_6q = np.random.normal(size = 2**n_qubit) + 1j * np.random.normal(size = 2**n_qubit)\n",
    "vec_10q = np.random.normal(size = 2**10) + 1j * np.random.normal(size = 2**10)\n",
    "\n",
    "# particle number restriction\n",
    "vec_6q = [vec_6q[i] if is_particle_number_correct(i, 6, n_electrons) else 0 for i in range(2**6)]\n",
    "vec_6q /= np.linalg.norm(vec_6q)\n",
    "\n",
    "vec_10q = [vec_10q[i] if is_particle_number_correct(i, 10, n_electrons) else 0 for i in range(2**10)]\n",
    "vec_10q /= np.linalg.norm(vec_10q)"
   ]
  },
  {
   "cell_type": "markdown",
   "id": "fdaaa888",
   "metadata": {},
   "source": [
    "## compute k-RDM\n",
    "\n",
    "フェルミオン系の量子多体状態$\\rho$に対して、その$k$-RDM (Reduced Density Matrix, 縮約密度行列)の行列要素を\n",
    "\\begin{align}\n",
    "^k D^{p_1\\cdots p_k}_{q_1 \\cdots q_k} = \\mathrm{Tr}[c_{p_1}^\\dagger \\cdots c_{p_k}^\\dagger c_{q_1}\\cdots c_{q_k} \\rho]\n",
    "\\end{align}\n",
    "により定義することにする。ここで、 $c_i^{(\\dagger)}$は$i$番目のフェルミオンに関する消滅(生成)演算子を表す。"
   ]
  },
  {
   "cell_type": "code",
   "execution_count": 6,
   "id": "de7f19be",
   "metadata": {},
   "outputs": [],
   "source": [
    "from openfermion import FermionOperator, get_sparse_operator\n",
    "\n",
    "def expectation(operator, state):\n",
    "    n_qubit = int(np.log2(state.shape[0]))\n",
    "    if type(operator) == np.ndarray:\n",
    "        return state.conj() @ operator @ state\n",
    "    else:\n",
    "        return state.conj() @ get_sparse_operator(operator, n_qubits = n_qubit).toarray() @ state\n",
    "    \n",
    "\n",
    "\n",
    "def get_sign_of_args(args):\n",
    "    if len(args) - len(np.unique(args)) > 0:\n",
    "        return 0\n",
    "    order = [list(args).index(arg) for arg in np.sort(args)]\n",
    "    return Permutation(order).signature()\n",
    "\n",
    "def get_corresponding_index(args: tuple):\n",
    "    k = len(args)//2\n",
    "    assert len(args) == 2*k\n",
    "    args_ = list(args)\n",
    "    \n",
    "    args1 = args_[:k]\n",
    "    args2 = args_[k:]\n",
    "    \n",
    "    sign1 = get_sign_of_args(args1)\n",
    "    sign2 = get_sign_of_args(args2)\n",
    "    \n",
    "    argmin1 = min(args1)\n",
    "    argmin2 = min(args2)\n",
    "        \n",
    "    if_conjugate = argmin1 > argmin2\n",
    "    if if_conjugate:\n",
    "        args1_ref =  sorted(args2)\n",
    "        args2_ref = sorted(args1)\n",
    "    else:\n",
    "        args1_ref = sorted(args1)\n",
    "        args2_ref = sorted(args2)\n",
    "    return tuple(args1_ref + args2_ref), if_conjugate, sign1 * sign2\n",
    "\n",
    "    \n",
    "from sympy.combinatorics import Permutation\n",
    "\n",
    "def get_sign_of_args(args):\n",
    "    if len(args) - len(np.unique(args)) > 0:\n",
    "        return 0\n",
    "    order = [list(args).index(arg) for arg in np.sort(args)]\n",
    "    return Permutation(order).signature()\n",
    "\n",
    "def get_corresponding_index(args: tuple):\n",
    "    k = len(args)//2\n",
    "    assert len(args) == 2*k\n",
    "    args_ = list(args)\n",
    "    \n",
    "    args1 = args_[:k]\n",
    "    args2 = args_[k:]\n",
    "    \n",
    "    sign1 = get_sign_of_args(args1)\n",
    "    sign2 = get_sign_of_args(args2)\n",
    "    \n",
    "    argmin1 = min(args1)\n",
    "    argmin2 = min(args2)\n",
    "        \n",
    "    if_conjugate = argmin1 > argmin2\n",
    "    if if_conjugate:\n",
    "        args1_ref =  sorted(args2)\n",
    "        args2_ref = sorted(args1)\n",
    "    else:\n",
    "        args1_ref = sorted(args1)\n",
    "        args2_ref = sorted(args2)\n",
    "    return tuple(args1_ref + args2_ref), if_conjugate, sign1 * sign2\n",
    "\n",
    "\n",
    "def compute_one_rdm(vector: np.ndarray):\n",
    "    n_qubit = int(np.log2(vector.shape[0]))\n",
    "    rdm1 = np.zeros((n_qubit, n_qubit), dtype = complex)\n",
    "    for i in range(n_qubit):\n",
    "        for j in range(i, n_qubit):\n",
    "            cij = expectation(FermionOperator(f\"{i}^ {j}\"), vector)\n",
    "            \n",
    "            rdm1[i, j] = np.copy(cij)\n",
    "            rdm1[j, i] = np.copy(cij).conj()\n",
    "    return rdm1.copy()\n",
    "\n",
    "def compute_two_rdm(vector: np.ndarray):\n",
    "    n_qubit = int(np.log2(vector.shape[0]))\n",
    "    rdm2 = np.zeros((n_qubit, n_qubit, n_qubit, n_qubit), dtype = complex)\n",
    "    for i in range(n_qubit):\n",
    "        for j in range(i, n_qubit):\n",
    "            for k in range(j, n_qubit):\n",
    "                for l in range(k, n_qubit):\n",
    "                    \n",
    "                    unique_args = list(set([(i, j, k, l), (i, k, j, l), (i, l, j, k)]))\n",
    "                    for _args in unique_args:\n",
    "                        exp = expectation(FermionOperator(f\"{_args[0]}^ {_args[1]}^ {_args[2]} {_args[3]}\"), vector)\n",
    "                        rdm2[_args] = exp\n",
    "\n",
    "    for i in range(n_qubit):\n",
    "        for j in range(n_qubit):\n",
    "            for k in range(n_qubit):\n",
    "                for l in range(n_qubit):\n",
    "                    \n",
    "                    \n",
    "                    args = (i, j, k, l)\n",
    "                    args_ref, if_conjugate, sign = get_corresponding_index(args)\n",
    "        \n",
    "                    cijkl = np.copy(rdm2[args_ref]) * sign\n",
    "                    if if_conjugate:\n",
    "                        cijkl = cijkl.conj()\n",
    "\n",
    "                    rdm2[i, j, k, l] = np.copy(cijkl)     \n",
    "    return rdm2.copy()"
   ]
  },
  {
   "cell_type": "code",
   "execution_count": 7,
   "id": "8adafae9",
   "metadata": {},
   "outputs": [
    {
     "name": "stdout",
     "output_type": "stream",
     "text": [
      "CPU times: user 18.1 s, sys: 37.9 s, total: 56 s\n",
      "Wall time: 9.68 s\n"
     ]
    }
   ],
   "source": [
    "%%time\n",
    "\n",
    "rdm1 = compute_one_rdm(vec_6q)\n",
    "rdm2 = compute_two_rdm(vec_6q)"
   ]
  },
  {
   "cell_type": "code",
   "execution_count": 8,
   "id": "1c0ec533",
   "metadata": {},
   "outputs": [
    {
     "name": "stdout",
     "output_type": "stream",
     "text": [
      "CPU times: user 4min 42s, sys: 9min 51s, total: 14min 34s\n",
      "Wall time: 2min 35s\n"
     ]
    }
   ],
   "source": [
    "%%time\n",
    "\n",
    "# to be honest this is already slow\n",
    "rdm1_10q = compute_one_rdm(vec_10q)\n",
    "rdm2_10q = compute_two_rdm(vec_10q)"
   ]
  },
  {
   "cell_type": "code",
   "execution_count": 9,
   "id": "acf4d781",
   "metadata": {},
   "outputs": [],
   "source": [
    "# openfermion内部では、2-RDMに定数倍をかけたものを活用している\n",
    "tpdm = rdm2 / 2\n",
    "tpdm_10q = rdm2_10q / 2\n",
    "\n",
    "# openfermion内部では、1-RDMに定数倍をかけたものを活用している\n",
    "opdm = (2 / (n_electrons - 1)) * np.einsum('ijjk', tpdm)\n",
    "opdm_10q = (2 / (n_electrons - 1)) * np.einsum('ijjk', tpdm_10q)"
   ]
  },
  {
   "cell_type": "code",
   "execution_count": 10,
   "id": "210e3143",
   "metadata": {},
   "outputs": [
    {
     "data": {
      "text/plain": [
       "(6, 6)"
      ]
     },
     "execution_count": 10,
     "metadata": {},
     "output_type": "execute_result"
    }
   ],
   "source": [
    "# n-qubit系 (n-fermion mode系)では shape = (N, N)\n",
    "opdm.shape"
   ]
  },
  {
   "cell_type": "code",
   "execution_count": 11,
   "id": "46eaa4fe",
   "metadata": {},
   "outputs": [
    {
     "data": {
      "text/plain": [
       "(6, 6, 6, 6)"
      ]
     },
     "execution_count": 11,
     "metadata": {},
     "output_type": "execute_result"
    }
   ],
   "source": [
    "# n-qubit系 (n-fermion mode系)では shape = (N, N, N, N)\n",
    "tpdm.shape"
   ]
  },
  {
   "cell_type": "markdown",
   "id": "e47fe9d2",
   "metadata": {},
   "source": [
    "## wedge product of tensors\n",
    "\n",
    "\n",
    "\n",
    "Wedge積は、反交換関係を保つようなKronecker deltaのようなものだと理解できる。\n",
    "その定義は、以下のように与えられる：\n",
    "\\begin{align}\n",
    "     \\left( a \\wedge b\\right) ^{i_{1}, i_{2}, ..., i_{p},..., i_{p+q}}_{j_{1}, j_{2}, ...,j_{p}, ..., j_{p+q} } =\n",
    "    \\left(\\frac{1}{N!}\\right)^{2} \n",
    "\\sum_{\\pi, \\sigma}\n",
    "    \\epsilon(\\pi)\n",
    "    \\epsilon(\\sigma)\n",
    "    a_{\\pi(j_{1}), \\pi(j_{2}), ..., \\pi(j_{p}) }^{ \\sigma(i_{1}), \\sigma(i_{2}), ..., \\sigma(i_{p})}\n",
    "    b_{\\pi(j_{p+1}), \\pi(j_{p+2}), ..., \\pi(j_{p+q}) }^{ \\sigma(i_{p+1}), \\sigma(i_{p+2}), ..., \\sigma(i_{p+q})}\n",
    "    \\end{align}\n",
    "    ただし、$a$と$b$はそれぞれ $p$-RDM, $q$-RDMを表すテンソルで、フェルミオンの半交換関係に起因して行列要素同士が符号で結びついている。\n",
    "    また、$\\pi, \\sigma$はそれぞれ $(p+q)$個の添字に関する巡回を表し、$\\epsilon(\\pi)$などは巡回操作の符号を表すものとする。\n",
    "    \n",
    "その素朴なeinsumによる実装は、googleの提供する Openfermionライブラリに提供されているが、例によって遅くて困っている。\n",
    "`wedge`関数の[URL](https://quantumai.google/reference/python/openfermion/linalg/wedge) "
   ]
  },
  {
   "cell_type": "code",
   "execution_count": 12,
   "id": "97c827dc",
   "metadata": {},
   "outputs": [
    {
     "name": "stdout",
     "output_type": "stream",
     "text": [
      "CPU times: user 38.2 ms, sys: 6.84 ms, total: 45 ms\n",
      "Wall time: 43.4 ms\n"
     ]
    }
   ],
   "source": [
    "%%time\n",
    "from openfermion.linalg import wedge\n",
    "\n",
    "# 上記の操作をまとめたのが `wedge`関数である\n",
    "left_index_ranks = (1, 1)\n",
    "right_index_ranks = (2, 2)\n",
    "thpdm = wedge(opdm, tpdm, left_index_ranks, right_index_ranks)"
   ]
  },
  {
   "cell_type": "markdown",
   "id": "1dfb04c1",
   "metadata": {},
   "source": [
    "以下では、 `wedge`の実装部分を分解し、その動作を理解する。"
   ]
  },
  {
   "cell_type": "code",
   "execution_count": 13,
   "id": "39032b29",
   "metadata": {},
   "outputs": [
    {
     "name": "stdout",
     "output_type": "stream",
     "text": [
      "new_tensor.shape =  (6, 6, 6, 6, 6, 6)\n"
     ]
    }
   ],
   "source": [
    "from itertools import product\n",
    "from math import factorial\n",
    "from openfermion.linalg import generate_parity_permutations\n",
    "\n",
    "# numpy einsum alphabet\n",
    "EINSUM_CHARS = 'abcdefghijklmnopqrstuvwxyzABCDEFGHIJKLMNOPQRSTUVWXYZ'\n",
    "\n",
    "left_tensor = opdm\n",
    "right_tensor = tpdm\n",
    "left_index_ranks = (1, 1)\n",
    "right_index_ranks = (2, 2)\n",
    "\n",
    "# 巡回操作で現れる文字の整理\n",
    "total_upper = left_index_ranks[0] + right_index_ranks[0]\n",
    "total_lower = left_index_ranks[1] + right_index_ranks[1]\n",
    "upper_characters = EINSUM_CHARS[:total_upper]\n",
    "lower_characters = EINSUM_CHARS[total_upper:total_upper + total_lower]\n",
    "\n",
    "# wedge積で生成される関数\n",
    "new_tensor = np.zeros(left_tensor.shape + right_tensor.shape,\n",
    "                         dtype=complex)\n",
    "print(\"new_tensor.shape = \", new_tensor.shape)"
   ]
  },
  {
   "cell_type": "code",
   "execution_count": 14,
   "id": "bfd32901",
   "metadata": {},
   "outputs": [
    {
     "name": "stdout",
     "output_type": "stream",
     "text": [
      "ordered_einsum_string = abcdef\n",
      "einsum operation = af,bcde->abcdef\n",
      "sign = 1\n",
      "einsum operation = af,bced->abcdef\n",
      "sign = -1\n",
      "einsum operation = ad,bcef->abcdef\n",
      "sign = 1\n",
      "einsum operation = ae,bcdf->abcdef\n",
      "sign = -1\n",
      "einsum operation = ae,bcfd->abcdef\n",
      "sign = 1\n",
      "einsum operation = ad,bcfe->abcdef\n",
      "sign = -1\n",
      "einsum operation = af,cbde->abcdef\n",
      "sign = -1\n",
      "einsum operation = af,cbed->abcdef\n",
      "sign = 1\n",
      "einsum operation = ad,cbef->abcdef\n",
      "sign = -1\n",
      "einsum operation = ae,cbdf->abcdef\n",
      "sign = 1\n",
      "einsum operation = ae,cbfd->abcdef\n",
      "sign = -1\n",
      "einsum operation = ad,cbfe->abcdef\n",
      "sign = 1\n",
      "einsum operation = cf,abde->abcdef\n",
      "sign = 1\n",
      "einsum operation = cf,abed->abcdef\n",
      "sign = -1\n",
      "einsum operation = cd,abef->abcdef\n",
      "sign = 1\n",
      "einsum operation = ce,abdf->abcdef\n",
      "sign = -1\n",
      "einsum operation = ce,abfd->abcdef\n",
      "sign = 1\n",
      "einsum operation = cd,abfe->abcdef\n",
      "sign = -1\n",
      "einsum operation = bf,acde->abcdef\n",
      "sign = -1\n",
      "einsum operation = bf,aced->abcdef\n",
      "sign = 1\n",
      "einsum operation = bd,acef->abcdef\n",
      "sign = -1\n",
      "einsum operation = be,acdf->abcdef\n",
      "sign = 1\n",
      "einsum operation = be,acfd->abcdef\n",
      "sign = -1\n",
      "einsum operation = bd,acfe->abcdef\n",
      "sign = 1\n",
      "einsum operation = bf,cade->abcdef\n",
      "sign = 1\n",
      "einsum operation = bf,caed->abcdef\n",
      "sign = -1\n",
      "einsum operation = bd,caef->abcdef\n",
      "sign = 1\n",
      "einsum operation = be,cadf->abcdef\n",
      "sign = -1\n",
      "einsum operation = be,cafd->abcdef\n",
      "sign = 1\n",
      "einsum operation = bd,cafe->abcdef\n",
      "sign = -1\n",
      "einsum operation = cf,bade->abcdef\n",
      "sign = -1\n",
      "einsum operation = cf,baed->abcdef\n",
      "sign = 1\n",
      "einsum operation = cd,baef->abcdef\n",
      "sign = -1\n",
      "einsum operation = ce,badf->abcdef\n",
      "sign = 1\n",
      "einsum operation = ce,bafd->abcdef\n",
      "sign = -1\n",
      "einsum operation = cd,bafe->abcdef\n",
      "sign = 1\n"
     ]
    }
   ],
   "source": [
    "ordered_einsum_string = upper_characters + lower_characters\n",
    "print(f\"ordered_einsum_string = {ordered_einsum_string}\")\n",
    "\n",
    "# 巡回群全てについて和を計算\n",
    "for upper_order_parities, lower_order_parities in product(\n",
    "        generate_parity_permutations(upper_characters),\n",
    "        generate_parity_permutations(lower_characters[::-1])):\n",
    "    # we reverse the order in the lower_chars so because\n",
    "    # <a^ b^ c d> = D_{dc}^{ab} in this code.\n",
    "    n_upper_einsum_chars = upper_order_parities[0][:left_index_ranks[0]]\n",
    "    m_upper_einsum_chars = upper_order_parities[0][left_index_ranks[0]:]\n",
    "    n_lower_einsum_chars = lower_order_parities[0] \\\n",
    "        [:left_index_ranks[1]][::-1]\n",
    "    m_lower_einsum_chars = lower_order_parities[0] \\\n",
    "        [left_index_ranks[1]:][::-1]\n",
    "\n",
    "    n_string = \"\".join(n_upper_einsum_chars + n_lower_einsum_chars)\n",
    "    m_string = \"\".join(m_upper_einsum_chars + m_lower_einsum_chars)\n",
    "    \n",
    "    #print(\"\\nn_string = \", n_string)\n",
    "    #print(\"m_string = \", m_string)\n",
    "    n_parity = upper_order_parities[1]\n",
    "    m_parity = lower_order_parities[1]\n",
    "    \n",
    "    print(\"einsum operation = {},{}->{}\".format(n_string, m_string,ordered_einsum_string))\n",
    "    print(f\"sign = {n_parity * m_parity}\")\n",
    "\n",
    "    # we are doing lots of extra += operations but with the benefit of not\n",
    "    # having to write a python loop over the entire new_tensor object.\n",
    "    new_tensor += n_parity * m_parity * \\\n",
    "                  np.einsum('{},{}->{}'.format(n_string, m_string,\n",
    "                                                  ordered_einsum_string),\n",
    "                               left_tensor, right_tensor)"
   ]
  },
  {
   "cell_type": "code",
   "execution_count": 15,
   "id": "113de1fc",
   "metadata": {},
   "outputs": [],
   "source": [
    "# divided by number of permutations at the end\n",
    "new_tensor /= factorial(total_upper) * factorial(total_lower)"
   ]
  },
  {
   "cell_type": "code",
   "execution_count": 16,
   "id": "20317e27",
   "metadata": {},
   "outputs": [
    {
     "data": {
      "text/plain": [
       "True"
      ]
     },
     "execution_count": 16,
     "metadata": {},
     "output_type": "execute_result"
    }
   ],
   "source": [
    "# wedge関数のoutputと整合することを確認\n",
    "np.allclose(thpdm, new_tensor)"
   ]
  },
  {
   "cell_type": "markdown",
   "id": "183a05f4",
   "metadata": {},
   "source": [
    "## 実行時間テスト\n",
    "\n",
    "(4, 4)階のテンソルの生成に時間がかかりすぎている。"
   ]
  },
  {
   "cell_type": "code",
   "execution_count": 17,
   "id": "9f20f466",
   "metadata": {},
   "outputs": [
    {
     "name": "stdout",
     "output_type": "stream",
     "text": [
      "CPU times: user 1.82 ms, sys: 1.57 ms, total: 3.39 ms\n",
      "Wall time: 2 ms\n"
     ]
    }
   ],
   "source": [
    "%%time\n",
    "\n",
    "# this is fine\n",
    "unconnected_tpdm = wedge(opdm, opdm, (1, 1), (1,1))"
   ]
  },
  {
   "cell_type": "code",
   "execution_count": 18,
   "id": "2e07b5ef",
   "metadata": {},
   "outputs": [
    {
     "name": "stdout",
     "output_type": "stream",
     "text": [
      "CPU times: user 23 ms, sys: 2 ms, total: 25 ms\n",
      "Wall time: 22.4 ms\n"
     ]
    }
   ],
   "source": [
    "%%time\n",
    "\n",
    "# this is okay\n",
    "unconnected_d3 = wedge(opdm, tpdm, (1, 1), (2, 2))"
   ]
  },
  {
   "cell_type": "code",
   "execution_count": 19,
   "id": "0c510ce1",
   "metadata": {},
   "outputs": [
    {
     "name": "stdout",
     "output_type": "stream",
     "text": [
      "CPU times: user 16.8 s, sys: 88.9 ms, total: 16.9 s\n",
      "Wall time: 16.9 s\n"
     ]
    }
   ],
   "source": [
    "%%time\n",
    "\n",
    "# generating (4, 4) tensor is too slow, even for 6 qubits\n",
    "unconnected_d4 = wedge(tpdm, tpdm, (2, 2), (2, 2))"
   ]
  },
  {
   "cell_type": "code",
   "execution_count": 20,
   "id": "b8580b7f",
   "metadata": {},
   "outputs": [
    {
     "name": "stdout",
     "output_type": "stream",
     "text": [
      "CPU times: user 16.8 s, sys: 45.1 ms, total: 16.9 s\n",
      "Wall time: 16.9 s\n"
     ]
    }
   ],
   "source": [
    "%%time\n",
    "\n",
    "# this is the case for other calculations as well\n",
    "unconnected_d4_2 = wedge(opdm, unconnected_d3, (1, 1), (3, 3))"
   ]
  },
  {
   "cell_type": "markdown",
   "id": "72b311ff",
   "metadata": {},
   "source": [
    "### 10-qubit"
   ]
  },
  {
   "cell_type": "code",
   "execution_count": 21,
   "id": "d145c9a9",
   "metadata": {},
   "outputs": [
    {
     "name": "stdout",
     "output_type": "stream",
     "text": [
      "CPU times: user 579 ms, sys: 3.7 ms, total: 582 ms\n",
      "Wall time: 582 ms\n"
     ]
    }
   ],
   "source": [
    "%%time\n",
    "\n",
    "# this is becoming irritating\n",
    "unconnected_d3_10q = wedge(opdm_10q, tpdm_10q, (1, 1), (2, 2))"
   ]
  },
  {
   "cell_type": "code",
   "execution_count": 22,
   "id": "2cbe667d",
   "metadata": {},
   "outputs": [
    {
     "ename": "KeyboardInterrupt",
     "evalue": "",
     "output_type": "error",
     "traceback": [
      "\u001b[0;31m---------------------------------------------------------------------------\u001b[0m",
      "\u001b[0;31mKeyboardInterrupt\u001b[0m                         Traceback (most recent call last)",
      "\u001b[0;32m<timed exec>\u001b[0m in \u001b[0;36m<module>\u001b[0;34m\u001b[0m\n",
      "\u001b[0;32m~/.pyenv/versions/anaconda3-4.3.1/envs/fermionic_shadow/lib/python3.7/site-packages/openfermion/linalg/wedge_product.py\u001b[0m in \u001b[0;36mwedge\u001b[0;34m(left_tensor, right_tensor, left_index_ranks, right_index_ranks)\u001b[0m\n\u001b[1;32m    138\u001b[0m                       numpy.einsum('{},{}->{}'.format(n_string, m_string,\n\u001b[1;32m    139\u001b[0m                                                       ordered_einsum_string),\n\u001b[0;32m--> 140\u001b[0;31m                                    left_tensor, right_tensor)\n\u001b[0m\u001b[1;32m    141\u001b[0m \u001b[0;34m\u001b[0m\u001b[0m\n\u001b[1;32m    142\u001b[0m     \u001b[0mnew_tensor\u001b[0m \u001b[0;34m/=\u001b[0m \u001b[0mfactorial\u001b[0m\u001b[0;34m(\u001b[0m\u001b[0mtotal_upper\u001b[0m\u001b[0;34m)\u001b[0m \u001b[0;34m*\u001b[0m \u001b[0mfactorial\u001b[0m\u001b[0;34m(\u001b[0m\u001b[0mtotal_lower\u001b[0m\u001b[0;34m)\u001b[0m\u001b[0;34m\u001b[0m\u001b[0;34m\u001b[0m\u001b[0m\n",
      "\u001b[0;32m<__array_function__ internals>\u001b[0m in \u001b[0;36meinsum\u001b[0;34m(*args, **kwargs)\u001b[0m\n",
      "\u001b[0;32m~/.pyenv/versions/anaconda3-4.3.1/envs/fermionic_shadow/lib/python3.7/site-packages/numpy/core/einsumfunc.py\u001b[0m in \u001b[0;36meinsum\u001b[0;34m(out, optimize, *operands, **kwargs)\u001b[0m\n\u001b[1;32m   1357\u001b[0m         \u001b[0;32mif\u001b[0m \u001b[0mspecified_out\u001b[0m\u001b[0;34m:\u001b[0m\u001b[0;34m\u001b[0m\u001b[0;34m\u001b[0m\u001b[0m\n\u001b[1;32m   1358\u001b[0m             \u001b[0mkwargs\u001b[0m\u001b[0;34m[\u001b[0m\u001b[0;34m'out'\u001b[0m\u001b[0;34m]\u001b[0m \u001b[0;34m=\u001b[0m \u001b[0mout\u001b[0m\u001b[0;34m\u001b[0m\u001b[0;34m\u001b[0m\u001b[0m\n\u001b[0;32m-> 1359\u001b[0;31m         \u001b[0;32mreturn\u001b[0m \u001b[0mc_einsum\u001b[0m\u001b[0;34m(\u001b[0m\u001b[0;34m*\u001b[0m\u001b[0moperands\u001b[0m\u001b[0;34m,\u001b[0m \u001b[0;34m**\u001b[0m\u001b[0mkwargs\u001b[0m\u001b[0;34m)\u001b[0m\u001b[0;34m\u001b[0m\u001b[0;34m\u001b[0m\u001b[0m\n\u001b[0m\u001b[1;32m   1360\u001b[0m \u001b[0;34m\u001b[0m\u001b[0m\n\u001b[1;32m   1361\u001b[0m     \u001b[0;31m# Check the kwargs to avoid a more cryptic error later, without having to\u001b[0m\u001b[0;34m\u001b[0m\u001b[0;34m\u001b[0m\u001b[0;34m\u001b[0m\u001b[0m\n",
      "\u001b[0;31mKeyboardInterrupt\u001b[0m: "
     ]
    }
   ],
   "source": [
    "%%time\n",
    "\n",
    "# slow as hell\n",
    "unconnected_d4_10q = wedge(opdm_10q, unconnected_d3_10q, (1, 1), (3, 3))"
   ]
  },
  {
   "cell_type": "code",
   "execution_count": 1,
   "id": "73d1cff7",
   "metadata": {},
   "outputs": [
    {
     "name": "stdout",
     "output_type": "stream",
     "text": [
      "sugoi hayai program\n"
     ]
    }
   ],
   "source": [
    "print(\"sugoi hayai program\")"
   ]
  }
 ],
 "metadata": {
  "kernelspec": {
   "display_name": "fermionic_shadow",
   "language": "python",
   "name": "fermionic_shadow"
  },
  "language_info": {
   "codemirror_mode": {
    "name": "ipython",
    "version": 3
   },
   "file_extension": ".py",
   "mimetype": "text/x-python",
   "name": "python",
   "nbconvert_exporter": "python",
   "pygments_lexer": "ipython3",
   "version": "3.7.3"
  },
  "toc": {
   "base_numbering": 1,
   "nav_menu": {},
   "number_sections": true,
   "sideBar": true,
   "skip_h1_title": false,
   "title_cell": "Table of Contents",
   "title_sidebar": "Contents",
   "toc_cell": false,
   "toc_position": {},
   "toc_section_display": true,
   "toc_window_display": false
  }
 },
 "nbformat": 4,
 "nbformat_minor": 5
}
