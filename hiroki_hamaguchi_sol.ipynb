{
 "cells": [
  {
   "attachments": {},
   "cell_type": "markdown",
   "id": "9e071e3f",
   "metadata": {},
   "source": [
    "# 提出用Notebook"
   ]
  },
  {
   "attachments": {},
   "cell_type": "markdown",
   "id": "82dbd591",
   "metadata": {},
   "source": [
    "以下が私の解答です。"
   ]
  },
  {
   "cell_type": "code",
   "execution_count": 1,
   "id": "413d5917",
   "metadata": {},
   "outputs": [],
   "source": [
    "from tensorVis import vis2dTensorKarnaugh,\\\n",
    "                        vis4dTensorKarnaugh,\\\n",
    "                        vis4dTensorNest,\\\n",
    "                        vis6dTensorKarnaugh\n",
    "from kRDM import fast_compute_one_rdm,\\\n",
    "                 fast_compute_two_rdm\n",
    "from wedgeProduct import fast_wedge"
   ]
  },
  {
   "attachments": {},
   "cell_type": "markdown",
   "id": "94824139",
   "metadata": {},
   "source": [
    "以下動作確認の為、渡されたNotebookの流れに従って、同じ結果が得られることを確認します。"
   ]
  },
  {
   "cell_type": "code",
   "execution_count": 2,
   "id": "9b61693a",
   "metadata": {},
   "outputs": [],
   "source": [
    "import openfermion\n",
    "#from openfermion import ran\n",
    "import numpy as np\n",
    "n_qubit = 6\n",
    "n_electrons = 3\n",
    "\n",
    "def is_particle_number_correct(arg: int, n_qubit: int, n_particle: int):\n",
    "    l = bin(arg)[2:].zfill(n_qubit)\n",
    "    return sum([int(b) for b in l]) == n_particle\n",
    "\n",
    "# generate Haar random state\n",
    "np.random.seed(1234)\n",
    "vec_6q = np.random.normal(size = 2**n_qubit) + 1j * np.random.normal(size = 2**n_qubit)\n",
    "vec_10q = np.random.normal(size = 2**10) + 1j * np.random.normal(size = 2**10)\n",
    "\n",
    "# particle number restriction\n",
    "vec_6q = [vec_6q[i] if is_particle_number_correct(i, 6, n_electrons) else 0 for i in range(2**6)]\n",
    "vec_6q /= np.linalg.norm(vec_6q)\n",
    "\n",
    "vec_10q = [vec_10q[i] if is_particle_number_correct(i, 10, n_electrons) else 0 for i in range(2**10)]\n",
    "vec_10q /= np.linalg.norm(vec_10q)"
   ]
  },
  {
   "cell_type": "markdown",
   "id": "fdaaa888",
   "metadata": {},
   "source": [
    "## compute k-RDM\n",
    "\n",
    "フェルミオン系の量子多体状態$\\rho$に対して、その$k$-RDM (Reduced Density Matrix, 縮約密度行列)の行列要素を\n",
    "\\begin{align}\n",
    "^k D^{p_1\\cdots p_k}_{q_1 \\cdots q_k} = \\mathrm{Tr}[c_{p_1}^\\dagger \\cdots c_{p_k}^\\dagger c_{q_1}\\cdots c_{q_k} \\rho]\n",
    "\\end{align}\n",
    "により定義することにする。ここで、 $c_i^{(\\dagger)}$は$i$番目のフェルミオンに関する消滅(生成)演算子を表す。"
   ]
  },
  {
   "cell_type": "code",
   "execution_count": 3,
   "id": "de7f19be",
   "metadata": {},
   "outputs": [],
   "source": [
    "from openfermion import FermionOperator, get_sparse_operator\n",
    "\n",
    "def expectation(operator, state):\n",
    "    n_qubit = int(np.log2(state.shape[0]))\n",
    "    if type(operator) == np.ndarray:\n",
    "        return state.conj() @ operator @ state\n",
    "    else:\n",
    "        return state.conj() @ get_sparse_operator(operator, n_qubits = n_qubit).toarray() @ state\n",
    "\n",
    "    \n",
    "from sympy.combinatorics import Permutation\n",
    "\n",
    "def get_sign_of_args(args):\n",
    "    if len(args) - len(np.unique(args)) > 0:\n",
    "        return 0\n",
    "    order = [list(args).index(arg) for arg in np.sort(args)]\n",
    "    return Permutation(order).signature()\n",
    "\n",
    "def get_corresponding_index(args: tuple):\n",
    "    k = len(args)//2\n",
    "    assert len(args) == 2*k\n",
    "    args_ = list(args)\n",
    "    \n",
    "    args1 = args_[:k]\n",
    "    args2 = args_[k:]\n",
    "    \n",
    "    sign1 = get_sign_of_args(args1)\n",
    "    sign2 = get_sign_of_args(args2)\n",
    "    \n",
    "    argmin1 = min(args1)\n",
    "    argmin2 = min(args2)\n",
    "        \n",
    "    if_conjugate = argmin1 > argmin2\n",
    "    if if_conjugate:\n",
    "        args1_ref =  sorted(args2)\n",
    "        args2_ref = sorted(args1)\n",
    "    else:\n",
    "        args1_ref = sorted(args1)\n",
    "        args2_ref = sorted(args2)\n",
    "    return tuple(args1_ref + args2_ref), if_conjugate, sign1 * sign2\n",
    "\n",
    "\n",
    "def compute_one_rdm(vector: np.ndarray):\n",
    "    n_qubit = int(np.log2(vector.shape[0]))\n",
    "    rdm1 = np.zeros((n_qubit, n_qubit), dtype = complex)\n",
    "    for i in range(n_qubit):\n",
    "        for j in range(i, n_qubit):\n",
    "            cij = expectation(FermionOperator(f\"{i}^ {j}\"), vector)\n",
    "            \n",
    "            rdm1[i, j] = np.copy(cij)\n",
    "            rdm1[j, i] = np.copy(cij).conj()\n",
    "    return rdm1.copy()\n",
    "\n",
    "def compute_two_rdm(vector: np.ndarray):\n",
    "    n_qubit = int(np.log2(vector.shape[0]))\n",
    "    rdm2 = np.zeros((n_qubit, n_qubit, n_qubit, n_qubit), dtype = complex)\n",
    "    for i in range(n_qubit):\n",
    "        for j in range(i, n_qubit):\n",
    "            for k in range(j, n_qubit):\n",
    "                for l in range(k, n_qubit):\n",
    "                    \n",
    "                    unique_args = list(set([(i, j, k, l), (i, k, j, l), (i, l, j, k)]))\n",
    "                    for _args in unique_args:\n",
    "                        exp = expectation(FermionOperator(f\"{_args[0]}^ {_args[1]}^ {_args[2]} {_args[3]}\"), vector)\n",
    "                        rdm2[_args] = exp\n",
    "\n",
    "    for i in range(n_qubit):\n",
    "        for j in range(n_qubit):\n",
    "            for k in range(n_qubit):\n",
    "                for l in range(n_qubit):\n",
    "                    \n",
    "                    \n",
    "                    args = (i, j, k, l)\n",
    "                    args_ref, if_conjugate, sign = get_corresponding_index(args)\n",
    "        \n",
    "                    cijkl = np.copy(rdm2[args_ref]) * sign\n",
    "                    if if_conjugate:\n",
    "                        cijkl = cijkl.conj()\n",
    "\n",
    "                    rdm2[i, j, k, l] = np.copy(cijkl)     \n",
    "    return rdm2.copy()"
   ]
  },
  {
   "cell_type": "code",
   "execution_count": 4,
   "id": "8adafae9",
   "metadata": {},
   "outputs": [],
   "source": [
    "rdm1 = compute_one_rdm(vec_6q)\n",
    "rdm2 = compute_two_rdm(vec_6q)"
   ]
  },
  {
   "cell_type": "code",
   "execution_count": 5,
   "id": "1c0ec533",
   "metadata": {},
   "outputs": [],
   "source": [
    "# to be honest this is already slow\n",
    "rdm1_10q = compute_one_rdm(vec_10q)\n",
    "rdm2_10q = compute_two_rdm(vec_10q)"
   ]
  },
  {
   "attachments": {},
   "cell_type": "markdown",
   "id": "f4027670",
   "metadata": {},
   "source": [
    "**以下が確認セル**"
   ]
  },
  {
   "cell_type": "code",
   "execution_count": 6,
   "id": "ad2b71f3",
   "metadata": {},
   "outputs": [],
   "source": [
    "fast_rdm1=fast_compute_one_rdm(vec_6q)\n",
    "fast_rdm2=fast_compute_two_rdm(vec_6q)\n",
    "fast_rdm1_10q=fast_compute_one_rdm(vec_10q)\n",
    "fast_rdm2_10q=fast_compute_two_rdm(vec_10q)\n",
    "assert np.allclose(rdm1,fast_rdm1)\n",
    "assert np.allclose(rdm2,fast_rdm2)\n",
    "assert np.allclose(rdm1_10q,fast_rdm1_10q)\n",
    "assert np.allclose(rdm2_10q,fast_rdm2_10q)"
   ]
  },
  {
   "cell_type": "code",
   "execution_count": 7,
   "id": "acf4d781",
   "metadata": {},
   "outputs": [],
   "source": [
    "# openfermion内部では、2-RDMに定数倍をかけたものを活用している\n",
    "tpdm = rdm2 / 2\n",
    "tpdm_10q = rdm2_10q / 2\n",
    "\n",
    "# openfermion内部では、1-RDMに定数倍をかけたものを活用している\n",
    "opdm = (2 / (n_electrons - 1)) * np.einsum('ijjk', tpdm)\n",
    "opdm_10q = (2 / (n_electrons - 1)) * np.einsum('ijjk', tpdm_10q)"
   ]
  },
  {
   "cell_type": "code",
   "execution_count": 8,
   "id": "210e3143",
   "metadata": {},
   "outputs": [
    {
     "data": {
      "text/plain": [
       "(6, 6)"
      ]
     },
     "execution_count": 8,
     "metadata": {},
     "output_type": "execute_result"
    }
   ],
   "source": [
    "# n-qubit系 (n-fermion mode系)では shape = (N, N)\n",
    "opdm.shape"
   ]
  },
  {
   "cell_type": "code",
   "execution_count": 9,
   "id": "46eaa4fe",
   "metadata": {},
   "outputs": [
    {
     "data": {
      "text/plain": [
       "(6, 6, 6, 6)"
      ]
     },
     "execution_count": 9,
     "metadata": {},
     "output_type": "execute_result"
    }
   ],
   "source": [
    "# n-qubit系 (n-fermion mode系)では shape = (N, N, N, N)\n",
    "tpdm.shape"
   ]
  },
  {
   "cell_type": "markdown",
   "id": "e47fe9d2",
   "metadata": {},
   "source": [
    "## wedge product of tensors\n",
    "\n",
    "\n",
    "\n",
    "Wedge積は、反交換関係を保つようなKronecker deltaのようなものだと理解できる。\n",
    "その定義は、以下のように与えられる：\n",
    "\\begin{align}\n",
    "     \\left( a \\wedge b\\right) ^{i_{1}, i_{2}, ..., i_{p},..., i_{p+q}}_{j_{1}, j_{2}, ...,j_{p}, ..., j_{p+q} } =\n",
    "    \\left(\\frac{1}{N!}\\right)^{2} \n",
    "\\sum_{\\pi, \\sigma}\n",
    "    \\epsilon(\\pi)\n",
    "    \\epsilon(\\sigma)\n",
    "    a_{\\pi(j_{1}), \\pi(j_{2}), ..., \\pi(j_{p}) }^{ \\sigma(i_{1}), \\sigma(i_{2}), ..., \\sigma(i_{p})}\n",
    "    b_{\\pi(j_{p+1}), \\pi(j_{p+2}), ..., \\pi(j_{p+q}) }^{ \\sigma(i_{p+1}), \\sigma(i_{p+2}), ..., \\sigma(i_{p+q})}\n",
    "    \\end{align}\n",
    "    ただし、$a$と$b$はそれぞれ $p$-RDM, $q$-RDMを表すテンソルで、フェルミオンの半交換関係に起因して行列要素同士が符号で結びついている。\n",
    "    また、$\\pi, \\sigma$はそれぞれ $(p+q)$個の添字に関する巡回を表し、$\\epsilon(\\pi)$などは巡回操作の符号を表すものとする。\n",
    "    \n",
    "その素朴なeinsumによる実装は、googleの提供する Openfermionライブラリに提供されているが、例によって遅くて困っている。\n",
    "`wedge`関数の[URL](https://quantumai.google/reference/python/openfermion/linalg/wedge) "
   ]
  },
  {
   "cell_type": "code",
   "execution_count": 10,
   "id": "97c827dc",
   "metadata": {},
   "outputs": [],
   "source": [
    "from openfermion.linalg import wedge\n",
    "\n",
    "# 上記の操作をまとめたのが `wedge`関数である\n",
    "left_index_ranks = (1, 1)\n",
    "right_index_ranks = (2, 2)\n",
    "thpdm = wedge(opdm, tpdm, left_index_ranks, right_index_ranks)"
   ]
  },
  {
   "attachments": {},
   "cell_type": "markdown",
   "id": "1dfb04c1",
   "metadata": {},
   "source": [
    "~~以下では、 `wedge`の実装部分を分解し、その動作を理解する。~~\n",
    "\n",
    "省略"
   ]
  },
  {
   "cell_type": "markdown",
   "id": "183a05f4",
   "metadata": {},
   "source": [
    "## 実行時間テスト\n",
    "\n",
    "(4, 4)階のテンソルの生成に時間がかかりすぎている。"
   ]
  },
  {
   "cell_type": "code",
   "execution_count": 11,
   "id": "9f20f466",
   "metadata": {},
   "outputs": [],
   "source": [
    "# this is fine\n",
    "unconnected_tpdm = wedge(opdm, opdm, (1, 1), (1,1))"
   ]
  },
  {
   "cell_type": "code",
   "execution_count": 12,
   "id": "2e07b5ef",
   "metadata": {},
   "outputs": [],
   "source": [
    "# this is okay\n",
    "unconnected_d3 = wedge(opdm, tpdm, (1, 1), (2, 2))"
   ]
  },
  {
   "cell_type": "code",
   "execution_count": 13,
   "id": "0c510ce1",
   "metadata": {},
   "outputs": [],
   "source": [
    "# generating (4, 4) tensor is too slow, even for 6 qubits\n",
    "unconnected_d4 = wedge(tpdm, tpdm, (2, 2), (2, 2))"
   ]
  },
  {
   "cell_type": "code",
   "execution_count": 14,
   "id": "b8580b7f",
   "metadata": {},
   "outputs": [],
   "source": [
    "# this is the case for other calculations as well\n",
    "unconnected_d4_2 = wedge(opdm, unconnected_d3, (1, 1), (3, 3))"
   ]
  },
  {
   "cell_type": "markdown",
   "id": "72b311ff",
   "metadata": {},
   "source": [
    "### 10-qubit"
   ]
  },
  {
   "cell_type": "code",
   "execution_count": 15,
   "id": "d145c9a9",
   "metadata": {},
   "outputs": [],
   "source": [
    "# this is becoming irritating\n",
    "unconnected_d3_10q = wedge(opdm_10q, tpdm_10q, (1, 1), (2, 2))"
   ]
  },
  {
   "cell_type": "code",
   "execution_count": 16,
   "id": "2cbe667d",
   "metadata": {},
   "outputs": [],
   "source": [
    "# # slow as hell\n",
    "# unconnected_d4_10q = wedge(opdm_10q, unconnected_d3_10q, (1, 1), (3, 3))"
   ]
  },
  {
   "attachments": {},
   "cell_type": "markdown",
   "id": "157200fa",
   "metadata": {},
   "source": [
    "**以下が確認セル**"
   ]
  },
  {
   "cell_type": "code",
   "execution_count": 17,
   "id": "2665f629",
   "metadata": {},
   "outputs": [
    {
     "data": {
      "application/vnd.jupyter.widget-view+json": {
       "model_id": "5933a8c9f592457ab10c73eeac007a5e",
       "version_major": 2,
       "version_minor": 0
      },
      "text/plain": [
       "  0%|          | 0/225 [00:00<?, ?it/s]"
      ]
     },
     "metadata": {},
     "output_type": "display_data"
    },
    {
     "data": {
      "application/vnd.jupyter.widget-view+json": {
       "model_id": "8fe4b7e0b7ae44d5a9727d05a1734516",
       "version_major": 2,
       "version_minor": 0
      },
      "text/plain": [
       "  0%|          | 0/400 [00:00<?, ?it/s]"
      ]
     },
     "metadata": {},
     "output_type": "display_data"
    },
    {
     "data": {
      "application/vnd.jupyter.widget-view+json": {
       "model_id": "c729de74ea6f4d1b989b4cce5ff06a5c",
       "version_major": 2,
       "version_minor": 0
      },
      "text/plain": [
       "  0%|          | 0/225 [00:00<?, ?it/s]"
      ]
     },
     "metadata": {},
     "output_type": "display_data"
    },
    {
     "data": {
      "application/vnd.jupyter.widget-view+json": {
       "model_id": "92fd427e739446db881f0db0ab02e598",
       "version_major": 2,
       "version_minor": 0
      },
      "text/plain": [
       "  0%|          | 0/225 [00:00<?, ?it/s]"
      ]
     },
     "metadata": {},
     "output_type": "display_data"
    },
    {
     "data": {
      "application/vnd.jupyter.widget-view+json": {
       "model_id": "2ed385b581c548bdbfcd76c46501f8e0",
       "version_major": 2,
       "version_minor": 0
      },
      "text/plain": [
       "  0%|          | 0/14400 [00:00<?, ?it/s]"
      ]
     },
     "metadata": {},
     "output_type": "display_data"
    }
   ],
   "source": [
    "fast_unconnected_tpdm = fast_wedge(opdm, opdm, (1, 1), (1, 1))\n",
    "fast_unconnected_d3 = fast_wedge(opdm, tpdm, (1, 1), (2, 2))\n",
    "fast_unconnected_d4 = fast_wedge(tpdm, tpdm, (2, 2), (2, 2))\n",
    "fast_unconnected_d4_2 = fast_wedge(opdm, fast_unconnected_d3, (1, 1), (3, 3))\n",
    "fast_unconnected_d3_10q = fast_wedge(opdm_10q, tpdm_10q, (1, 1), (2, 2))\n",
    "assert np.allclose(unconnected_tpdm, fast_unconnected_tpdm)\n",
    "assert np.allclose(unconnected_d3, fast_unconnected_d3)\n",
    "assert np.allclose(unconnected_d4, fast_unconnected_d4)\n",
    "assert np.allclose(unconnected_d4_2, fast_unconnected_d4_2)\n",
    "assert np.allclose(unconnected_d3_10q, fast_unconnected_d3_10q)"
   ]
  },
  {
   "cell_type": "code",
   "execution_count": 18,
   "id": "a4a35e46",
   "metadata": {},
   "outputs": [
    {
     "data": {
      "application/vnd.jupyter.widget-view+json": {
       "model_id": "874aed93e054455fbfc08c4412e7a072",
       "version_major": 2,
       "version_minor": 0
      },
      "text/plain": [
       "  0%|          | 0/44100 [00:00<?, ?it/s]"
      ]
     },
     "metadata": {},
     "output_type": "display_data"
    }
   ],
   "source": [
    "fast_unconnected_d4_10q = fast_wedge(opdm_10q, fast_unconnected_d3_10q, (1, 1), (3, 3))\n"
   ]
  },
  {
   "cell_type": "code",
   "execution_count": 19,
   "id": "73d1cff7",
   "metadata": {},
   "outputs": [
    {
     "name": "stdout",
     "output_type": "stream",
     "text": [
      "sugoi hayai program\n"
     ]
    }
   ],
   "source": [
    "print(\"sugoi hayai program\")"
   ]
  },
  {
   "cell_type": "code",
   "execution_count": 20,
   "id": "204ed389",
   "metadata": {},
   "outputs": [
    {
     "data": {
      "image/png": "[encoded data removed]",
      "text/plain": [
       "<Figure size 576x576 with 2 Axes>"
      ]
     },
     "metadata": {
      "needs_background": "light"
     },
     "output_type": "display_data"
    }
   ],
   "source": [
    "vis4dTensorNest(fast_unconnected_tpdm)"
   ]
  }
 ],
 "metadata": {
  "kernelspec": {
   "display_name": "base",
   "language": "python",
   "name": "python3"
  },
  "language_info": {
   "codemirror_mode": {
    "name": "ipython",
    "version": 3
   },
   "file_extension": ".py",
   "mimetype": "text/x-python",
   "name": "python",
   "nbconvert_exporter": "python",
   "pygments_lexer": "ipython3",
   "version": "3.8.3"
  },
  "toc": {
   "base_numbering": 1,
   "nav_menu": {},
   "number_sections": true,
   "sideBar": true,
   "skip_h1_title": false,
   "title_cell": "Table of Contents",
   "title_sidebar": "Contents",
   "toc_cell": false,
   "toc_position": {},
   "toc_section_display": true,
   "toc_window_display": false
  },
  "vscode": {
   "interpreter": {
    "hash": "7cea24d53d001afaa68130287e583fbe34d1c08cff33de358a5bdfbf82e16173"
   }
  }
 },
 "nbformat": 4,
 "nbformat_minor": 5
}
